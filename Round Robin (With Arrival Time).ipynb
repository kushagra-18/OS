{
 "cells": [
  {
   "cell_type": "code",
   "execution_count": 1,
   "metadata": {},
   "outputs": [],
   "source": [
    "def findWaitingTime(processes, n, bt,wt, quantum,arrival_time): \n",
    "    rem_bt = [0] * n  \n",
    "    for i in range(n): \n",
    "        rem_bt[i] = bt[i] \n",
    "    t = 0 \n",
    "    arrival=0\n",
    "    while(1): \n",
    "        done = True\n",
    "        for i in range(n):  \n",
    "            if (rem_bt[i] > 0) : \n",
    "                done = False \n",
    "\n",
    "                if (rem_bt[i] > quantum and arrival_time[i]<=arrival) :  \n",
    "                    t += quantum  \n",
    "                    rem_bt[i] -= quantum \n",
    "                    arrival=arrival+1\n",
    "                else:\n",
    "                    if(arrival_time[i]<=arrival):\n",
    "                        arrival=arrival+1\n",
    "                        t = t + rem_bt[i]  \n",
    "                        wt[i] = t - bt[i]  \n",
    "                        rem_bt[i] = 0 \n",
    "        if (done == True): \n",
    "            break \n"
   ]
  },
  {
   "cell_type": "code",
   "execution_count": 2,
   "metadata": {},
   "outputs": [],
   "source": [
    "def findTurnAroundTime(processes, n, bt, wt, tat,arrival_time): \n",
    "    for i in range(n): \n",
    "        tat[i] = bt[i] + wt[i] - arrival_time[i]\n"
   ]
  },
  {
   "cell_type": "code",
   "execution_count": 3,
   "metadata": {},
   "outputs": [],
   "source": [
    "def findavgTime(processes, n, bt, quantum,arrival_time): \n",
    "    wt = [0] * n \n",
    "    tat = [0] * n  \n",
    "    findWaitingTime(processes, n, bt,wt, quantum,arrival_time)  \n",
    "    findTurnAroundTime(processes, n, bt, wt, tat,arrival_time)  \n",
    "    print(\"Processes Burst Time Waiting\",\" Arrival Time\\t\", \n",
    "          \"Time Turn-Around Time\") \n",
    "    total_wt = 0\n",
    "    total_tat = 0\n",
    "    for i in range(n): \n",
    "        total_wt = total_wt + wt[i] \n",
    "        total_tat = total_tat + tat[i] \n",
    "        print(\" \", i + 1, \"\\t\\t\", arrival_time[i],\"\\t\\t\", bt[i], \"\\t\\t\", wt[i], \"\\t\\t\", tat[i]) \n",
    "    print(\"\\nAverage waiting time = %.5f \"%(total_wt /n) ) \n",
    "    print(\"Average turn around time = %.5f \"% (total_tat / n)) \n"
   ]
  },
  {
   "cell_type": "code",
   "execution_count": 4,
   "metadata": {},
   "outputs": [
    {
     "name": "stdout",
     "output_type": "stream",
     "text": [
      "Processes Burst Time Waiting  Arrival Time\t Time Turn-Around Time\n",
      "  1 \t\t 0 \t\t 9 \t\t 16 \t\t 25\n",
      "  2 \t\t 1 \t\t 6 \t\t 12 \t\t 17\n",
      "  3 \t\t 2 \t\t 8 \t\t 19 \t\t 25\n",
      "  4 \t\t 3 \t\t 4 \t\t 18 \t\t 19\n",
      "\n",
      "Average waiting time = 16.25000 \n",
      "Average turn around time = 21.50000 \n"
     ]
    }
   ],
   "source": [
    "if __name__ ==\"__main__\": \n",
    "    quantum=3\n",
    "    arrival_time=[0,1,2,3]\n",
    "    proc=[1,2,3,4]\n",
    "    burst_time=[9,6,8,4]\n",
    "    n=len(proc)\n",
    "    findavgTime(proc, n, burst_time, quantum,arrival_time)\n"
   ]
  },
  {
   "cell_type": "code",
   "execution_count": null,
   "metadata": {},
   "outputs": [],
   "source": []
  }
 ],
 "metadata": {
  "kernelspec": {
   "display_name": "Python 3",
   "language": "python",
   "name": "python3"
  },
  "language_info": {
   "codemirror_mode": {
    "name": "ipython",
    "version": 3
   },
   "file_extension": ".py",
   "mimetype": "text/x-python",
   "name": "python",
   "nbconvert_exporter": "python",
   "pygments_lexer": "ipython3",
   "version": "3.7.6"
  }
 },
 "nbformat": 4,
 "nbformat_minor": 4
}
