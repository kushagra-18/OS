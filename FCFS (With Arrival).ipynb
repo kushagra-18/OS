{
 "cells": [
  {
   "cell_type": "code",
   "execution_count": 2,
   "metadata": {},
   "outputs": [],
   "source": [
    "def TurnAroundTime(processes, n, BT, wt, tat):  \n",
    "    for i in range(n): \n",
    "        tat[i] = BT[i] + wt[i]\n"
   ]
  },
  {
   "cell_type": "code",
   "execution_count": 3,
   "metadata": {},
   "outputs": [],
   "source": [
    "def WaitingTime(processes, n, BT, wt, at):  \n",
    "    serv_time = [0] * n  \n",
    "    serv_time[0] = 0\n",
    "    wt[0] = 0\n",
    "    for i in range(1, n):  \n",
    "        serv_time[i] = (serv_time[i - 1] + BT[i - 1])    \n",
    "        wt[i] = serv_time[i] - at[i]  \n",
    "        if (wt[i] < 0): \n",
    "            wt[i] = 0"
   ]
  },
  {
   "cell_type": "code",
   "execution_count": 4,
   "metadata": {},
   "outputs": [],
   "source": [
    "def avgTime(processes, n, BT, at):  \n",
    "    wt = [0] * n \n",
    "    tat = [0] * n  \n",
    "\n",
    "    WaitingTime(processes, n, BT, wt, at)  \n",
    "  \n",
    "    TurnAroundTime(processes, n, BT, wt, tat)  \n",
    "  \n",
    "    print(\"Processes   Burst Time   Arrival Time     Waiting\",  \n",
    "          \"Time   Turn-Around Time \\n\") \n",
    "    total_wt = 0\n",
    "    total_tat = 0\n",
    "    for i in range(n): \n",
    "  \n",
    "        total_wt = total_wt + wt[i]  \n",
    "        total_tat = total_tat + tat[i]  \n",
    "    \n",
    "        print(\" \", i + 1, \"\\t\\t\", BT[i], \"\\t\\t\", at[i],  \n",
    "              \"\\t\\t\", wt[i], \"\\t\\t \", tat[i])  \n",
    "    print(\"Average waiting time: \",(total_wt /n)) \n",
    "    print(\"\\nAverage turn around time \", total_tat / n) "
   ]
  },
  {
   "cell_type": "code",
   "execution_count": 5,
   "metadata": {},
   "outputs": [
    {
     "name": "stdout",
     "output_type": "stream",
     "text": [
      "Processes   Burst Time   Arrival Time     Waiting Time   Turn-Around Time \n",
      "\n",
      "  1 \t\t 3 \t\t 1 \t\t 0 \t\t  3\n",
      "  2 \t\t 5 \t\t 4 \t\t 0 \t\t  5\n",
      "  3 \t\t 17 \t\t 18 \t\t 0 \t\t  17\n",
      "Average waiting time:  0.0\n",
      "\n",
      "Average turn around time  8.333333333333334\n"
     ]
    }
   ],
   "source": [
    "at = [1, 4,18]  #Arrival time  \n",
    "processes = [1, 2, 3] \n",
    "BT = [3, 5, 17]  \n",
    "n = 3\n",
    "avgTime(processes, n, BT, at)\n"
   ]
  },
  {
   "cell_type": "code",
   "execution_count": null,
   "metadata": {},
   "outputs": [],
   "source": []
  }
 ],
 "metadata": {
  "kernelspec": {
   "display_name": "Python 3",
   "language": "python",
   "name": "python3"
  },
  "language_info": {
   "codemirror_mode": {
    "name": "ipython",
    "version": 3
   },
   "file_extension": ".py",
   "mimetype": "text/x-python",
   "name": "python",
   "nbconvert_exporter": "python",
   "pygments_lexer": "ipython3",
   "version": "3.7.6"
  }
 },
 "nbformat": 4,
 "nbformat_minor": 4
}
