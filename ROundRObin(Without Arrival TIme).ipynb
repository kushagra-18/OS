{
 "cells": [
  {
   "cell_type": "code",
   "execution_count": 1,
   "metadata": {},
   "outputs": [],
   "source": [
    "def findWaitingTime(processes, n, bt,wt, quantum): \n",
    "    rem_bt = [0] * n  \n",
    "    for i in range(n): \n",
    "        rem_bt[i] = bt[i] \n",
    "    t = 0  \n",
    "    while(1): \n",
    "        done = True\n",
    "        for i in range(n):  \n",
    "            if (rem_bt[i] > 0) : \n",
    "                done = False \n",
    "\n",
    "                if (rem_bt[i] > quantum) :  \n",
    "                    t += quantum  \n",
    "                    rem_bt[i] -= quantum  \n",
    "                else: \n",
    "                    t = t + rem_bt[i]  \n",
    "                    wt[i] = t - bt[i]  \n",
    "                    rem_bt[i] = 0 \n",
    "        if (done == True): \n",
    "            break \n"
   ]
  },
  {
   "cell_type": "code",
   "execution_count": 2,
   "metadata": {},
   "outputs": [],
   "source": [
    "def findTurnAroundTime(processes, n, bt, wt, tat): \n",
    "    for i in range(n): \n",
    "        tat[i] = bt[i] + wt[i]  \n"
   ]
  },
  {
   "cell_type": "code",
   "execution_count": 3,
   "metadata": {},
   "outputs": [],
   "source": [
    "def findavgTime(processes, n, bt, quantum): \n",
    "    wt = [0] * n \n",
    "    tat = [0] * n  \n",
    "    findWaitingTime(processes, n, bt,wt, quantum)  \n",
    "    findTurnAroundTime(processes, n, bt, wt, tat)  \n",
    "    print(\"Processes Burst Time Waiting\", \n",
    "          \"Time Turn-Around Time\") \n",
    "    total_wt = 0\n",
    "    total_tat = 0\n",
    "    for i in range(n): \n",
    "        total_wt = total_wt + wt[i] \n",
    "        total_tat = total_tat + tat[i] \n",
    "        print(\" \", i + 1, \"\\t\\t\", bt[i], \"\\t\\t\", wt[i], \"\\t\\t\", tat[i]) \n",
    "    print(\"\\nAverage waiting time = %.5f \"%(total_wt /n) ) \n",
    "    print(\"Average turn around time = %.5f \"% (total_tat / n)) \n"
   ]
  },
  {
   "cell_type": "code",
   "execution_count": 4,
   "metadata": {},
   "outputs": [
    {
     "name": "stdout",
     "output_type": "stream",
     "text": [
      "Enter number of processes: 3\n",
      "Entern id for process 1 :1\n",
      "Enter Burst Time for process 1 :4\n",
      "Entern id for process 2 :2\n",
      "Enter Burst Time for process 2 :15\n",
      "Entern id for process 3 :3\n",
      "Enter Burst Time for process 3 :7\n",
      "Processes Burst Time Waiting Time Turn-Around Time\n",
      "  1 \t\t 4 \t\t 4 \t\t 8\n",
      "  2 \t\t 15 \t\t 11 \t\t 26\n",
      "  3 \t\t 7 \t\t 12 \t\t 19\n",
      "\n",
      "Average waiting time = 9.00000 \n",
      "Average turn around time = 17.66667 \n"
     ]
    }
   ],
   "source": [
    "if __name__ ==\"__main__\": \n",
    "    num=int(input(\"Enter number of processes: \")) \n",
    "    quantum = 2\n",
    "    proc=[]\n",
    "    burst_time=[]\n",
    "    for i in range(num):\n",
    "        pid=int(input(\"Entern id for process {} :\".format(i+1)))\n",
    "        b_t=int(input(\"Enter Burst Time for process {} :\".format(i+1)))\n",
    "        proc.append(pid)\n",
    "        burst_time.append(b_t)\n",
    "    n = len(proc)\n",
    "    findavgTime(proc, n, burst_time, quantum)\n"
   ]
  },
  {
   "cell_type": "code",
   "execution_count": null,
   "metadata": {},
   "outputs": [],
   "source": []
  }
 ],
 "metadata": {
  "kernelspec": {
   "display_name": "Python 3",
   "language": "python",
   "name": "python3"
  },
  "language_info": {
   "codemirror_mode": {
    "name": "ipython",
    "version": 3
   },
   "file_extension": ".py",
   "mimetype": "text/x-python",
   "name": "python",
   "nbconvert_exporter": "python",
   "pygments_lexer": "ipython3",
   "version": "3.7.6"
  }
 },
 "nbformat": 4,
 "nbformat_minor": 4
}
