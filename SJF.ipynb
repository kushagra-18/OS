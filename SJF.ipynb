{
 "cells": [
  {
   "cell_type": "code",
   "execution_count": 2,
   "metadata": {},
   "outputs": [
    {
     "name": "stdout",
     "output_type": "stream",
     "text": [
      "Enter the number of process: \n",
      "4\n",
      "Enter the burst time of the processes: \n",
      "\n",
      "1 4 7 13\n"
     ]
    }
   ],
   "source": [
    "burst=[]   \n",
    "print(\"Enter the number of process: \")\n",
    "n=int(input())\n",
    "processes=[]\n",
    "for i in range(0,n):\n",
    "    processes.insert(i,i+1)\n",
    "print(\"Enter the burst time of the processes: \\n\")\n",
    "burst=list(map(int,input().split()))\n",
    "for i in range(0,len(burst)-1):  #applying bubble sort to sort process according to their burst time\n",
    "    for j in range(0,len(burst)-i-1):\n",
    "        if(burst[j]>burst[j+1]):\n",
    "            temp=burst[j]\n",
    "            burst[j]=burst[j+1]\n",
    "            burst[j+1]=temp\n",
    "            temp=processes[j]\n",
    "            processes[j]=processes[j+1]\n",
    "            processes[j+1]=temp\n"
   ]
  },
  {
   "cell_type": "code",
   "execution_count": 3,
   "metadata": {},
   "outputs": [
    {
     "name": "stdout",
     "output_type": "stream",
     "text": [
      "\n",
      "\n",
      "Process\t  Burst Time\t  Waiting Time\t  Turn Around Time\n",
      "1\t\t1\t\t0\t\t1\n",
      "\n",
      "\n",
      "2\t\t4\t\t1\t\t5\n",
      "\n",
      "\n",
      "3\t\t7\t\t5\t\t12\n",
      "\n",
      "\n",
      "4\t\t13\t\t12\t\t25\n",
      "\n",
      "\n",
      "Average Waiting time is: 4.5\n",
      "Average Turn Arount Time is: 10.5\n"
     ]
    }
   ],
   "source": [
    "wait=[]    # waiting time\n",
    "avgwt=0  #average of waiting time\n",
    "tat=[]    \n",
    "avgtat=0   \n",
    "wait.insert(0,0)\n",
    "tat.insert(0,burst[0])\n",
    "for i in range(1,len(burst)):  \n",
    "    wait.insert(i,wait[i-1]+burst[i-1])\n",
    "    tat.insert(i,wait[i]+burst[i])\n",
    "    avgwt+=wait[i]\n",
    "    avgtat+=tat[i]\n",
    "avgwt=float(avgwt)/n\n",
    "avgtat=float(avgtat)/n\n",
    "print(\"\\n\")\n",
    "print(\"Process\\t  Burst Time\\t  Waiting Time\\t  Turn Around Time\")\n",
    "for i in range(0,n):\n",
    "    print(str(processes[i])+\"\\t\\t\"+str(burst[i])+\"\\t\\t\"+str(wait[i])+\"\\t\\t\"+str(tat[i]))\n",
    "    print(\"\\n\")\n",
    "print(\"Average Waiting time is: \"+str(avgwt))\n",
    "print(\"Average Turn Arount Time is: \"+str(avgtat))\n",
    "\n"
   ]
  },
  {
   "cell_type": "code",
   "execution_count": null,
   "metadata": {},
   "outputs": [],
   "source": []
  }
 ],
 "metadata": {
  "kernelspec": {
   "display_name": "Python 3",
   "language": "python",
   "name": "python3"
  },
  "language_info": {
   "codemirror_mode": {
    "name": "ipython",
    "version": 3
   },
   "file_extension": ".py",
   "mimetype": "text/x-python",
   "name": "python",
   "nbconvert_exporter": "python",
   "pygments_lexer": "ipython3",
   "version": "3.7.6"
  }
 },
 "nbformat": 4,
 "nbformat_minor": 4
}
