{
 "cells": [
  {
   "cell_type": "code",
   "execution_count": 6,
   "metadata": {},
   "outputs": [
    {
     "name": "stdout",
     "output_type": "stream",
     "text": [
      "Enter the number of process: \n",
      "3\n",
      "Enter the burst time of the processes: \n",
      "\n",
      "3\n",
      "4\n",
      "3\n"
     ]
    }
   ],
   "source": [
    "BT=[]\n",
    "print(\"Enter the number of process: \")\n",
    "n=int(input())\n",
    "print(\"Enter the burst time of the processes: \\n\")\n",
    "for i in range(0,n):\n",
    "    x=int(input())\n",
    "    BT.append(x)\n"
   ]
  },
  {
   "cell_type": "code",
   "execution_count": 7,
   "metadata": {},
   "outputs": [],
   "source": [
    "WT=[]\n",
    "avgwt=0\n",
    "tat=[]\n",
    "avgtat=0\n",
    "\n",
    "WT.insert(0,0)\n",
    "tat.insert(0,bt[0])\n"
   ]
  },
  {
   "cell_type": "code",
   "execution_count": 8,
   "metadata": {},
   "outputs": [],
   "source": [
    "for i in range(1,len(bt)):\n",
    "    WT.insert(i,WT[i-1]+BT[i-1])\n",
    "    tat.insert(i,WT[i]+BT[i])\n",
    "    avgwt+=WT[i]\n",
    "    avgtat+=tat[i]\n"
   ]
  },
  {
   "cell_type": "code",
   "execution_count": 9,
   "metadata": {},
   "outputs": [
    {
     "name": "stdout",
     "output_type": "stream",
     "text": [
      "\n",
      "\n",
      "Process\t  Burst Time\t  Waiting Time\t  Turn Around Time\n",
      "0\t\t3\t\t0\t\t3\n",
      "\n",
      "\n",
      "1\t\t4\t\t3\t\t7\n",
      "\n",
      "\n",
      "2\t\t3\t\t7\t\t10\n",
      "\n",
      "\n",
      "Average Waiting time is: 3.3333333333333335\n",
      "Average Turn Arount Time is: 5.666666666666667\n"
     ]
    }
   ],
   "source": [
    "avgwt=float(avgwt)/n\n",
    "avgtat=float(avgtat)/n\n",
    "print(\"\\n\")\n",
    "print(\"Process\\t  Burst Time\\t  Waiting Time\\t  Turn Around Time\")\n",
    "for i in range(0,n):\n",
    "    print(str(i)+\"\\t\\t\"+str(BT[i])+\"\\t\\t\"+str(WT[i])+\"\\t\\t\"+str(tat[i]))\n",
    "    print(\"\\n\")\n",
    "print(\"Average Waiting time is: \"+str(avgwt))\n",
    "print(\"Average Turn Arount Time is: \"+str(avgtat))\n"
   ]
  },
  {
   "cell_type": "code",
   "execution_count": null,
   "metadata": {},
   "outputs": [],
   "source": []
  }
 ],
 "metadata": {
  "kernelspec": {
   "display_name": "Python 3",
   "language": "python",
   "name": "python3"
  },
  "language_info": {
   "codemirror_mode": {
    "name": "ipython",
    "version": 3
   },
   "file_extension": ".py",
   "mimetype": "text/x-python",
   "name": "python",
   "nbconvert_exporter": "python",
   "pygments_lexer": "ipython3",
   "version": "3.7.6"
  }
 },
 "nbformat": 4,
 "nbformat_minor": 4
}
